{
  "nbformat": 4,
  "nbformat_minor": 0,
  "metadata": {
    "colab": {
      "name": "Logistic Regression with a Neural Network mindset.ipynb",
      "provenance": [],
      "collapsed_sections": []
    },
    "kernelspec": {
      "name": "python3",
      "display_name": "Python 3"
    }
  },
  "cells": [
    {
      "cell_type": "markdown",
      "metadata": {
        "id": "j5jzFNAvK6sk"
      },
      "source": [
        "# Logistic Regression with a Neural Network mindset\r\n",
        "\r\n",
        "Welcome to your first (required) programming assignment! You will build a logistic regression classifier to recognize  cats. This assignment will step you through how to do this with a Neural Network mindset, and so will also hone your intuitions about deep learning.\r\n",
        "\r\n",
        "**Instructions:**\r\n",
        "- Do not use loops (for/while) in your code, unless the instructions explicitly ask you to do so.\r\n",
        "\r\n",
        "**You will learn to:**\r\n",
        "- Build the general architecture of a learning algorithm, including:\r\n",
        "    - Initializing parameters\r\n",
        "    - Calculating the cost function and its gradient\r\n",
        "    - Using an optimization algorithm (gradient descent) \r\n",
        "- Gather all three functions above into a main model function, in the right order."
      ]
    },
    {
      "cell_type": "markdown",
      "metadata": {
        "id": "zQ3USlbOL8SE"
      },
      "source": [
        "## 1 - Packages ##\r\n",
        "\r\n",
        "First, let's run the cell below to import all the packages that you will need during this assignment. \r\n",
        "- [numpy](www.numpy.org) is the fundamental package for scientific computing with Python.\r\n",
        "- [h5py](http://www.h5py.org) is a common package to interact with a dataset that is stored on an H5 file.\r\n",
        "- [matplotlib](http://matplotlib.org) is a famous library to plot graphs in Python.\r\n",
        "- [PIL](http://www.pythonware.com/products/pil/) and [scipy](https://www.scipy.org/) are used here to test your model with your own picture at the end."
      ]
    },
    {
      "cell_type": "code",
      "metadata": {
        "id": "Y1830EyZK8QK"
      },
      "source": [
        "import numpy as np\r\n",
        "import h5py\r\n",
        "import matplotlib.pyplot as plt\r\n",
        "import scipy\r\n",
        "from PIL import Image\r\n",
        "from scipy import ndimage\r\n",
        "\r\n",
        "import sys\r\n",
        "sys.path.append(\"/content/drive/MyDrive/Colab_Notebooks/Coursera_Assignments/lr_utils.py\")\r\n",
        "\r\n",
        "#from lr_utils import load_dataset\r\n",
        "\r\n",
        "import os     \r\n",
        "\r\n",
        "def load_dataset():\r\n",
        "    train_dataset = h5py.File('/content/drive/MyDrive/Colab_Notebooks/Coursera_Assignments/datasets/train_catvnoncat.h5', \"r\")\r\n",
        "    train_set_x_orig = np.array(train_dataset[\"train_set_x\"][:]) # your train set features\r\n",
        "    train_set_y_orig = np.array(train_dataset[\"train_set_y\"][:]) # your train set labels\r\n",
        "\r\n",
        "    test_dataset = h5py.File('/content/drive/MyDrive/Colab_Notebooks/Coursera_Assignments/datasets/test_catvnoncat.h5', \"r\")\r\n",
        "    test_set_x_orig = np.array(test_dataset[\"test_set_x\"][:]) # your test set features\r\n",
        "    test_set_y_orig = np.array(test_dataset[\"test_set_y\"][:]) # your test set labels\r\n",
        "\r\n",
        "    classes = np.array(test_dataset[\"list_classes\"][:]) # the list of classes\r\n",
        "    \r\n",
        "    train_set_y_orig = train_set_y_orig.reshape((1, train_set_y_orig.shape[0]))\r\n",
        "    test_set_y_orig = test_set_y_orig.reshape((1, test_set_y_orig.shape[0]))\r\n",
        "    \r\n",
        "    return train_set_x_orig, train_set_y_orig, test_set_x_orig, test_set_y_orig, classes\r\n",
        "\r\n",
        "%matplotlib inline"
      ],
      "execution_count": 1,
      "outputs": []
    },
    {
      "cell_type": "markdown",
      "metadata": {
        "id": "UPdu396tiTm5"
      },
      "source": [
        "## 2 - Overview of the Problem set ##\r\n",
        "\r\n",
        "**Problem Statement**: You are given a dataset (\"data.h5\") containing:\r\n",
        "    - a training set of m_train images labeled as cat (y=1) or non-cat (y=0)\r\n",
        "    - a test set of m_test images labeled as cat or non-cat\r\n",
        "    - each image is of shape (num_px, num_px, 3) where 3 is for the 3 channels (RGB). Thus, each image is square (height = num_px) and (width = num_px).\r\n",
        "\r\n",
        "You will build a simple image-recognition algorithm that can correctly classify pictures as cat or non-cat.\r\n",
        "\r\n",
        "Let's get more familiar with the dataset. Load the data by running the following code."
      ]
    },
    {
      "cell_type": "code",
      "metadata": {
        "id": "RMeRDkQCRTwF"
      },
      "source": [
        "# Loading the data (cat/non-cat)\r\n",
        "train_set_x_orig, train_set_y, test_set_x_orig, test_set_y, classes = load_dataset()"
      ],
      "execution_count": 2,
      "outputs": []
    },
    {
      "cell_type": "code",
      "metadata": {
        "colab": {
          "base_uri": "https://localhost:8080/",
          "height": 285
        },
        "id": "2JRv4NyIikWQ",
        "outputId": "41bc6046-0aa6-497c-9764-bc5a7de55586"
      },
      "source": [
        "# Example of a picture\r\n",
        "index = 26\r\n",
        "plt.imshow(train_set_x_orig[index])\r\n",
        "print (\"y = \" + str(train_set_y[:, index]) + \", it's a '\" + classes[np.squeeze(train_set_y[:, index])].decode(\"utf-8\") +  \"' picture.\")"
      ],
      "execution_count": 3,
      "outputs": [
        {
          "output_type": "stream",
          "text": [
            "y = [0], it's a 'non-cat' picture.\n"
          ],
          "name": "stdout"
        },
        {
          "output_type": "display_data",
          "data": {
            "image/png": "[encoded data removed]",
            "text/plain": [
              "<Figure size 432x288 with 1 Axes>"
            ]
          },
          "metadata": {
            "tags": [],
            "needs_background": "light"
          }
        }
      ]
    },
    {
      "cell_type": "markdown",
      "metadata": {
        "id": "lmbJ26cRj6du"
      },
      "source": [
        "Many software bugs in deep learning come from having matrix/vector dimensions that don't fit. If you can keep your matrix/vector dimensions straight you will go a long way toward eliminating many bugs. \r\n",
        "\r\n",
        "**Exercise:** Find the values for:\r\n",
        "    - m_train (number of training examples)\r\n",
        "    - m_test (number of test examples)\r\n",
        "    - num_px (= height = width of a training image)\r\n",
        "Remember that `train_set_x_orig` is a numpy-array of shape (m_train, num_px, num_px, 3). For instance, you can access `m_train` by writing `train_set_x_orig.shape[0]`."
      ]
    },
    {
      "cell_type": "code",
      "metadata": {
        "colab": {
          "base_uri": "https://localhost:8080/"
        },
        "id": "KCdJNc3Nj0iU",
        "outputId": "ad50eb7d-047a-479f-d365-7c4663c3d8d7"
      },
      "source": [
        "### START CODE HERE ### (≈ 3 lines of code)\r\n",
        "m_train = train_set_y.shape[1]\r\n",
        "m_test = test_set_y.shape[1]\r\n",
        "num_px = train_set_x_orig.shape[1]\r\n",
        "### END CODE HERE ###\r\n",
        "\r\n",
        "print (\"Number of training examples: m_train = \" + str(m_train))\r\n",
        "print (\"Number of testing examples: m_test = \" + str(m_test))\r\n",
        "print (\"Height/Width of each image: num_px = \" + str(num_px))\r\n",
        "print (\"Each image is of size: (\" + str(num_px) + \", \" + str(num_px) + \", 3)\")\r\n",
        "print (\"train_set_x shape: \" + str(train_set_x_orig.shape))\r\n",
        "print (\"train_set_y shape: \" + str(train_set_y.shape))\r\n",
        "print (\"test_set_x shape: \" + str(test_set_x_orig.shape))\r\n",
        "print (\"test_set_y shape: \" + str(test_set_y.shape))"
      ],
      "execution_count": 4,
      "outputs": [
        {
          "output_type": "stream",
          "text": [
            "Number of training examples: m_train = 209\n",
            "Number of testing examples: m_test = 50\n",
            "Height/Width of each image: num_px = 64\n",
            "Each image is of size: (64, 64, 3)\n",
            "train_set_x shape: (209, 64, 64, 3)\n",
            "train_set_y shape: (1, 209)\n",
            "test_set_x shape: (50, 64, 64, 3)\n",
            "test_set_y shape: (1, 50)\n"
          ],
          "name": "stdout"
        }
      ]
    },
    {
      "cell_type": "markdown",
      "metadata": {
        "id": "r-OK5foukU9w"
      },
      "source": [
        "For convenience, you should now reshape images of shape (num_px, num_px, 3) in a numpy-array of shape (num_px $*$ num_px $*$ 3, 1). After this, our training (and test) dataset is a numpy-array where each column represents a flattened image. There should be m_train (respectively m_test) columns.\r\n",
        "\r\n",
        "**Exercise:** Reshape the training and test data sets so that images of size (num_px, num_px, 3) are flattened into single vectors of shape (num\\_px $*$ num\\_px $*$ 3, 1).\r\n",
        "\r\n",
        "A trick when you want to flatten a matrix X of shape (a,b,c,d) to a matrix X_flatten of shape (b$*$c$*$d, a) is to use: \r\n",
        "```python\r\n",
        "X_flatten = X.reshape(X.shape[0], -1).T      # X.T is the transpose of X\r\n",
        "```"
      ]
    },
    {
      "cell_type": "code",
      "metadata": {
        "colab": {
          "base_uri": "https://localhost:8080/"
        },
        "id": "4k8G5-jVkIFy",
        "outputId": "e21aa840-b7d3-47e3-e918-49ed2f34f6c8"
      },
      "source": [
        "# Reshape the training and test examples\r\n",
        "\r\n",
        "### START CODE HERE ### (≈ 2 lines of code)\r\n",
        "train_set_x_flatten = train_set_x_orig.reshape(train_set_x_orig.shape[0], -1).T\r\n",
        "test_set_x_flatten = test_set_x_orig.reshape(test_set_x_orig.shape[0], -1).T\r\n",
        "### END CODE HERE ###\r\n",
        "\r\n",
        "print (\"train_set_x_flatten shape: \" + str(train_set_x_flatten.shape))\r\n",
        "print (\"train_set_y shape: \" + str(train_set_y.shape))\r\n",
        "print (\"test_set_x_flatten shape: \" + str(test_set_x_flatten.shape))\r\n",
        "print (\"test_set_y shape: \" + str(test_set_y.shape))\r\n",
        "print (\"sanity check after reshaping: \" + str(train_set_x_flatten[0:5,0]))"
      ],
      "execution_count": 5,
      "outputs": [
        {
          "output_type": "stream",
          "text": [
            "train_set_x_flatten shape: (12288, 209)\n",
            "train_set_y shape: (1, 209)\n",
            "test_set_x_flatten shape: (12288, 50)\n",
            "test_set_y shape: (1, 50)\n",
            "sanity check after reshaping: [17 31 56 22 33]\n"
          ],
          "name": "stdout"
        }
      ]
    },
    {
      "cell_type": "markdown",
      "metadata": {
        "id": "3PQiJUgtlG8n"
      },
      "source": [
        "To represent color images, the red, green and blue channels (RGB) must be specified for each pixel, and so the pixel value is actually a vector of three numbers ranging from 0 to 255.\r\n",
        "\r\n",
        "One common preprocessing step in machine learning is to center and standardize your dataset, meaning that you substract the mean of the whole numpy array from each example, and then divide each example by the standard deviation of the whole numpy array. But for picture datasets, it is simpler and more convenient and works almost as well to just divide every row of the dataset by 255 (the maximum value of a pixel channel).\r\n",
        "\r\n",
        "<!-- During the training of your model, you're going to multiply weights and add biases to some initial inputs in order to observe neuron activations. Then you backpropogate with the gradients to train the model. But, it is extremely important for each feature to have a similar range such that our gradients don't explode. You will see that more in detail later in the lectures. !--> \r\n",
        "\r\n",
        "Let's standardize our dataset."
      ]
    },
    {
      "cell_type": "code",
      "metadata": {
        "id": "ZGLDp6HokjiL"
      },
      "source": [
        "train_set_x = train_set_x_flatten/255.\r\n",
        "test_set_x = test_set_x_flatten/255.\r\n"
      ],
      "execution_count": 6,
      "outputs": []
    },
    {
      "cell_type": "markdown",
      "metadata": {
        "id": "FSnVNUTIlUgl"
      },
      "source": [
        "<font color='blue'>\r\n",
        "**What you need to remember:**\r\n",
        "\r\n",
        "Common steps for pre-processing a new dataset are:\r\n",
        "- Figure out the dimensions and shapes of the problem (m_train, m_test, num_px, ...)\r\n",
        "- Reshape the datasets such that each example is now a vector of size (num_px \\* num_px \\* 3, 1)\r\n",
        "- \"Standardize\" the data"
      ]
    },
    {
      "cell_type": "markdown",
      "metadata": {
        "id": "sY7m_yMolcli"
      },
      "source": [
        "## 3 - General Architecture of the learning algorithm ##\r\n",
        "\r\n",
        "It's time to design a simple algorithm to distinguish cat images from non-cat images.\r\n",
        "\r\n",
        "You will build a Logistic Regression, using a Neural Network mindset. The following Figure explains why **Logistic Regression is actually a very simple Neural Network!**\r\n",
        "\r\n",
        "<img src=\"images/LogReg_kiank.png\" style=\"width:650px;height:400px;\">\r\n",
        "\r\n",
        "**Mathematical expression of the algorithm**:\r\n",
        "\r\n",
        "For one example $x^{(i)}$:\r\n",
        "$$z^{(i)} = w^T x^{(i)} + b \\tag{1}$$\r\n",
        "$$\\hat{y}^{(i)} = a^{(i)} = sigmoid(z^{(i)})\\tag{2}$$ \r\n",
        "$$ \\mathcal{L}(a^{(i)}, y^{(i)}) =  - y^{(i)}  \\log(a^{(i)}) - (1-y^{(i)} )  \\log(1-a^{(i)})\\tag{3}$$\r\n",
        "\r\n",
        "The cost is then computed by summing over all training examples:\r\n",
        "$$ J = \\frac{1}{m} \\sum_{i=1}^m \\mathcal{L}(a^{(i)}, y^{(i)})\\tag{6}$$\r\n",
        "\r\n",
        "**Key steps**:\r\n",
        "In this exercise, you will carry out the following steps: \r\n",
        "    - Initialize the parameters of the model\r\n",
        "    - Learn the parameters for the model by minimizing the cost  \r\n",
        "    - Use the learned parameters to make predictions (on the test set)\r\n",
        "    - Analyse the results and conclude"
      ]
    },
    {
      "cell_type": "markdown",
      "metadata": {
        "id": "zQozCHs3lmYg"
      },
      "source": [
        "## 4 - Building the parts of our algorithm ## \r\n",
        "\r\n",
        "The main steps for building a Neural Network are:\r\n",
        "1. Define the model structure (such as number of input features) \r\n",
        "2. Initialize the model's parameters\r\n",
        "3. Loop:\r\n",
        "    - Calculate current loss (forward propagation)\r\n",
        "    - Calculate current gradient (backward propagation)\r\n",
        "    - Update parameters (gradient descent)\r\n",
        "\r\n",
        "You often build 1-3 separately and integrate them into one function we call `model()`.\r\n",
        "\r\n",
        "### 4.1 - Helper functions\r\n",
        "\r\n",
        "**Exercise**: Using your code from \"Python Basics\", implement `sigmoid()`. As you've seen in the figure above, you need to compute $sigmoid( w^T x + b) = \\frac{1}{1 + e^{-(w^T x + b)}}$ to make predictions. Use np.exp()."
      ]
    },
    {
      "cell_type": "code",
      "metadata": {
        "id": "kj1YfWkclOMd"
      },
      "source": [
        "# GRADED FUNCTION: sigmoid\r\n",
        "\r\n",
        "def sigmoid(z):\r\n",
        "    \"\"\"\r\n",
        "    Compute the sigmoid of z\r\n",
        "\r\n",
        "    Arguments:\r\n",
        "    z -- A scalar or numpy array of any size.\r\n",
        "\r\n",
        "    Return:\r\n",
        "    s -- sigmoid(z)\r\n",
        "    \"\"\"\r\n",
        "\r\n",
        "    ### START CODE HERE ### (≈ 1 line of code)\r\n",
        "    s = 1/(1+np.exp(-z))\r\n",
        "    ### END CODE HERE ###\r\n",
        "    \r\n",
        "    return s"
      ],
      "execution_count": 7,
      "outputs": []
    },
    {
      "cell_type": "code",
      "metadata": {
        "colab": {
          "base_uri": "https://localhost:8080/"
        },
        "id": "6Ko5Uwg5ltS1",
        "outputId": "6a6b055a-5757-4b0e-ccaa-55a6ed23fe71"
      },
      "source": [
        "print (\"sigmoid([0, 2]) = \" + str(sigmoid(np.array([0,2]))))"
      ],
      "execution_count": 8,
      "outputs": [
        {
          "output_type": "stream",
          "text": [
            "sigmoid([0, 2]) = [0.5        0.88079708]\n"
          ],
          "name": "stdout"
        }
      ]
    },
    {
      "cell_type": "markdown",
      "metadata": {
        "id": "jD_I76PLl3eF"
      },
      "source": [
        "### 4.2 - Initializing parameters\r\n",
        "\r\n",
        "**Exercise:** Implement parameter initialization in the cell below. You have to initialize w as a vector of zeros. If you don't know what numpy function to use, look up np.zeros() in the Numpy library's documentation."
      ]
    },
    {
      "cell_type": "code",
      "metadata": {
        "id": "HDAslX8blxVH"
      },
      "source": [
        "# GRADED FUNCTION: initialize_with_zeros\r\n",
        "\r\n",
        "def initialize_with_zeros(dim):\r\n",
        "    \"\"\"\r\n",
        "    This function creates a vector of zeros of shape (dim, 1) for w and initializes b to 0.\r\n",
        "    \r\n",
        "    Argument:\r\n",
        "    dim -- size of the w vector we want (or number of parameters in this case)\r\n",
        "    \r\n",
        "    Returns:\r\n",
        "    w -- initialized vector of shape (dim, 1)\r\n",
        "    b -- initialized scalar (corresponds to the bias)\r\n",
        "    \"\"\"\r\n",
        "    \r\n",
        "    ### START CODE HERE ### (≈ 1 line of code)\r\n",
        "    w = np.zeros(shape=(dim, 1))\r\n",
        "    b = 0\r\n",
        "    ### END CODE HERE ###\r\n",
        "\r\n",
        "    assert(w.shape == (dim, 1))\r\n",
        "    assert(isinstance(b, float) or isinstance(b, int))\r\n",
        "    \r\n",
        "    return w, b"
      ],
      "execution_count": 9,
      "outputs": []
    },
    {
      "cell_type": "code",
      "metadata": {
        "colab": {
          "base_uri": "https://localhost:8080/"
        },
        "id": "cunn85Zol787",
        "outputId": "6dfe3007-12e5-4961-c329-ae4782218b2c"
      },
      "source": [
        "dim = 2\r\n",
        "w, b = initialize_with_zeros(dim)\r\n",
        "print (\"w = \" + str(w))\r\n",
        "print (\"b = \" + str(b))"
      ],
      "execution_count": 10,
      "outputs": [
        {
          "output_type": "stream",
          "text": [
            "w = [[0.]\n",
            " [0.]]\n",
            "b = 0\n"
          ],
          "name": "stdout"
        }
      ]
    },
    {
      "cell_type": "markdown",
      "metadata": {
        "id": "nevTdct2mLSa"
      },
      "source": [
        "### 4.3 - Forward and Backward propagation\r\n",
        "\r\n",
        "Now that your parameters are initialized, you can do the \"forward\" and \"backward\" propagation steps for learning the parameters.\r\n",
        "\r\n",
        "**Exercise:** Implement a function `propagate()` that computes the cost function and its gradient.\r\n",
        "\r\n",
        "**Hints**:\r\n",
        "\r\n",
        "Forward Propagation:\r\n",
        "- You get X\r\n",
        "- You compute $A = \\sigma(w^T X + b) = (a^{(1)}, a^{(2)}, ..., a^{(m-1)}, a^{(m)})$\r\n",
        "- You calculate the cost function: $J = -\\frac{1}{m}\\sum_{i=1}^{m}y^{(i)}\\log(a^{(i)})+(1-y^{(i)})\\log(1-a^{(i)})$\r\n",
        "\r\n",
        "Here are the two formulas you will be using: \r\n",
        "\r\n",
        "$$ \\frac{\\partial J}{\\partial w} = \\frac{1}{m}X(A-Y)^T\\tag{7}$$\r\n",
        "$$ \\frac{\\partial J}{\\partial b} = \\frac{1}{m} \\sum_{i=1}^m (a^{(i)}-y^{(i)})\\tag{8}$$"
      ]
    },
    {
      "cell_type": "code",
      "metadata": {
        "id": "hTrkTrRVmChF"
      },
      "source": [
        "# GRADED FUNCTION: propagate\r\n",
        "\r\n",
        "def propagate(w, b, X, Y):\r\n",
        "    \"\"\"\r\n",
        "    Implement the cost function and its gradient for the propagation explained above\r\n",
        "\r\n",
        "    Arguments:\r\n",
        "    w -- weights, a numpy array of size (num_px * num_px * 3, 1)\r\n",
        "    b -- bias, a scalar\r\n",
        "    X -- data of size (num_px * num_px * 3, number of examples)\r\n",
        "    Y -- true \"label\" vector (containing 0 if non-cat, 1 if cat) of size (1, number of examples)\r\n",
        "\r\n",
        "    Return:\r\n",
        "    cost -- negative log-likelihood cost for logistic regression\r\n",
        "    dw -- gradient of the loss with respect to w, thus same shape as w\r\n",
        "    db -- gradient of the loss with respect to b, thus same shape as b\r\n",
        "    \r\n",
        "    Tips:\r\n",
        "    - Write your code step by step for the propagation. np.log(), np.dot()\r\n",
        "    \"\"\"\r\n",
        "    \r\n",
        "    m = X.shape[1]\r\n",
        "    \r\n",
        "    # FORWARD PROPAGATION (FROM X TO COST)\r\n",
        "    ### START CODE HERE ### (≈ 2 lines of code)\r\n",
        "    A = sigmoid(np.dot(w.T, X) + b)                                    # compute activation\r\n",
        "    cost = (-1 / m) * np.sum(Y * np.log(A) + (1-Y) * np.log(1-A))                                 # compute cost\r\n",
        "    ### END CODE HERE ###\r\n",
        "    \r\n",
        "    # BACKWARD PROPAGATION (TO FIND GRAD)\r\n",
        "    ### START CODE HERE ### (≈ 2 lines of code)\r\n",
        "    dw = (1 / m) * (np.dot(X, (A-Y).T))\r\n",
        "    db = (1 / m) * (np.sum(A-Y))\r\n",
        "    ### END CODE HERE ###\r\n",
        "\r\n",
        "    assert(dw.shape == w.shape)\r\n",
        "    assert(db.dtype == float)\r\n",
        "    cost = np.squeeze(cost)\r\n",
        "    assert(cost.shape == ())\r\n",
        "    \r\n",
        "    grads = {\"dw\": dw,\r\n",
        "             \"db\": db}\r\n",
        "    \r\n",
        "    return grads, cost"
      ],
      "execution_count": 11,
      "outputs": []
    },
    {
      "cell_type": "code",
      "metadata": {
        "colab": {
          "base_uri": "https://localhost:8080/"
        },
        "id": "St9_8YZbmOk8",
        "outputId": "603dde60-87f7-4366-a376-926a3ff554d2"
      },
      "source": [
        "w, b, X, Y = np.array([[1.],[2.]]), 2., np.array([[1.,2.,-1.],[3.,4.,-3.2]]), np.array([[1,0,1]])\r\n",
        "grads, cost = propagate(w, b, X, Y)\r\n",
        "print (\"dw = \" + str(grads[\"dw\"]))\r\n",
        "print (\"db = \" + str(grads[\"db\"]))\r\n",
        "print (\"cost = \" + str(cost))"
      ],
      "execution_count": 12,
      "outputs": [
        {
          "output_type": "stream",
          "text": [
            "dw = [[0.99845601]\n",
            " [2.39507239]]\n",
            "db = 0.001455578136784208\n",
            "cost = 5.801545319394553\n"
          ],
          "name": "stdout"
        }
      ]
    },
    {
      "cell_type": "markdown",
      "metadata": {
        "id": "MQR-y78OmsX2"
      },
      "source": [
        "### 4.4 - Optimization\r\n",
        "- You have initialized your parameters.\r\n",
        "- You are also able to compute a cost function and its gradient.\r\n",
        "- Now, you want to update the parameters using gradient descent.\r\n",
        "\r\n",
        "**Exercise:** Write down the optimization function. The goal is to learn $w$ and $b$ by minimizing the cost function $J$. For a parameter $\\theta$, the update rule is $ \\theta = \\theta - \\alpha \\text{ } d\\theta$, where $\\alpha$ is the learning rate."
      ]
    },
    {
      "cell_type": "code",
      "metadata": {
        "id": "Gik-BoSemUn8"
      },
      "source": [
        "# GRADED FUNCTION: optimize\r\n",
        "\r\n",
        "def optimize(w, b, X, Y, num_iterations, learning_rate, print_cost = False):\r\n",
        "    \"\"\"\r\n",
        "    This function optimizes w and b by running a gradient descent algorithm\r\n",
        "    \r\n",
        "    Arguments:\r\n",
        "    w -- weights, a numpy array of size (num_px * num_px * 3, 1)\r\n",
        "    b -- bias, a scalar\r\n",
        "    X -- data of shape (num_px * num_px * 3, number of examples)\r\n",
        "    Y -- true \"label\" vector (containing 0 if non-cat, 1 if cat), of shape (1, number of examples)\r\n",
        "    num_iterations -- number of iterations of the optimization loop\r\n",
        "    learning_rate -- learning rate of the gradient descent update rule\r\n",
        "    print_cost -- True to print the loss every 100 steps\r\n",
        "    \r\n",
        "    Returns:\r\n",
        "    params -- dictionary containing the weights w and bias b\r\n",
        "    grads -- dictionary containing the gradients of the weights and bias with respect to the cost function\r\n",
        "    costs -- list of all the costs computed during the optimization, this will be used to plot the learning curve.\r\n",
        "    \r\n",
        "    Tips:\r\n",
        "    You basically need to write down two steps and iterate through them:\r\n",
        "        1) Calculate the cost and the gradient for the current parameters. Use propagate().\r\n",
        "        2) Update the parameters using gradient descent rule for w and b.\r\n",
        "    \"\"\"\r\n",
        "    \r\n",
        "    costs = []\r\n",
        "    \r\n",
        "    for i in range(num_iterations):\r\n",
        "        \r\n",
        "        \r\n",
        "        # Cost and gradient calculation (≈ 1-4 lines of code)\r\n",
        "        ### START CODE HERE ### \r\n",
        "        grads, cost = propagate(w, b, X, Y)\r\n",
        "        ### END CODE HERE ###\r\n",
        "        \r\n",
        "        # Retrieve derivatives from grads\r\n",
        "        dw = grads[\"dw\"]\r\n",
        "        db = grads[\"db\"]\r\n",
        "        \r\n",
        "        # update rule (≈ 2 lines of code)\r\n",
        "        ### START CODE HERE ###\r\n",
        "        w = w - learning_rate * dw\r\n",
        "        b = b - learning_rate * db\r\n",
        "        ### END CODE HERE ###\r\n",
        "        \r\n",
        "        # Record the costs\r\n",
        "        if i % 100 == 0:\r\n",
        "            costs.append(cost)\r\n",
        "        \r\n",
        "        # Print the cost every 100 training iterations\r\n",
        "        if print_cost and i % 100 == 0:\r\n",
        "            print (\"Cost after iteration %i: %f\" %(i, cost))\r\n",
        "    \r\n",
        "    params = {\"w\": w,\r\n",
        "              \"b\": b}\r\n",
        "    \r\n",
        "    grads = {\"dw\": dw,\r\n",
        "             \"db\": db}\r\n",
        "    \r\n",
        "    return params, grads, costs"
      ],
      "execution_count": 13,
      "outputs": []
    },
    {
      "cell_type": "code",
      "metadata": {
        "colab": {
          "base_uri": "https://localhost:8080/"
        },
        "id": "ELWB1x_omvI4",
        "outputId": "d687af43-8dff-4a97-8bb5-39d938e08f92"
      },
      "source": [
        "params, grads, costs = optimize(w, b, X, Y, num_iterations= 100, learning_rate = 0.009, print_cost = False)\r\n",
        "\r\n",
        "print (\"w = \" + str(params[\"w\"]))\r\n",
        "print (\"b = \" + str(params[\"b\"]))\r\n",
        "print (\"dw = \" + str(grads[\"dw\"]))\r\n",
        "print (\"db = \" + str(grads[\"db\"]))"
      ],
      "execution_count": 14,
      "outputs": [
        {
          "output_type": "stream",
          "text": [
            "w = [[0.19033591]\n",
            " [0.12259159]]\n",
            "b = 1.9253598300845747\n",
            "dw = [[0.67752042]\n",
            " [1.41625495]]\n",
            "db = 0.21919450454067652\n"
          ],
          "name": "stdout"
        }
      ]
    },
    {
      "cell_type": "markdown",
      "metadata": {
        "id": "WXqEdSDKnAVV"
      },
      "source": [
        "**Exercise:** The previous function will output the learned w and b. We are able to use w and b to predict the labels for a dataset X. Implement the `predict()` function. There are two steps to computing predictions:\r\n",
        "\r\n",
        "1. Calculate $\\hat{Y} = A = \\sigma(w^T X + b)$\r\n",
        "\r\n",
        "2. Convert the entries of a into 0 (if activation <= 0.5) or 1 (if activation > 0.5), stores the predictions in a vector `Y_prediction`. If you wish, you can use an `if`/`else` statement in a `for` loop (though there is also a way to vectorize this). "
      ]
    },
    {
      "cell_type": "code",
      "metadata": {
        "id": "PsKULBmcm55Q"
      },
      "source": [
        "# GRADED FUNCTION: predict\r\n",
        "\r\n",
        "def predict(w, b, X):\r\n",
        "    '''\r\n",
        "    Predict whether the label is 0 or 1 using learned logistic regression parameters (w, b)\r\n",
        "    \r\n",
        "    Arguments:\r\n",
        "    w -- weights, a numpy array of size (num_px * num_px * 3, 1)\r\n",
        "    b -- bias, a scalar\r\n",
        "    X -- data of size (num_px * num_px * 3, number of examples)\r\n",
        "    \r\n",
        "    Returns:\r\n",
        "    Y_prediction -- a numpy array (vector) containing all predictions (0/1) for the examples in X\r\n",
        "    '''\r\n",
        "    \r\n",
        "    m = X.shape[1]\r\n",
        "    Y_prediction = np.zeros((1,m))\r\n",
        "    w = w.reshape(X.shape[0], 1)\r\n",
        "    \r\n",
        "    # Compute vector \"A\" predicting the probabilities of a cat being present in the picture\r\n",
        "    ### START CODE HERE ### (≈ 1 line of code)\r\n",
        "    A = sigmoid(np.dot(w.T, X) + b)\r\n",
        "    ### END CODE HERE ###\r\n",
        "    \r\n",
        "    for i in range(A.shape[1]):\r\n",
        "        \r\n",
        "        # Convert probabilities A[0,i] to actual predictions p[0,i]\r\n",
        "        ### START CODE HERE ### (≈ 4 lines of code)\r\n",
        "        Y_prediction[0,i] = 1 if A[0,i]>0.5 else 0\r\n",
        "        ### END CODE HERE ###\r\n",
        "    \r\n",
        "    assert(Y_prediction.shape == (1, m))\r\n",
        "    \r\n",
        "    return Y_prediction"
      ],
      "execution_count": 15,
      "outputs": []
    },
    {
      "cell_type": "code",
      "metadata": {
        "colab": {
          "base_uri": "https://localhost:8080/"
        },
        "id": "FPb3iQTWphBp",
        "outputId": "77b7daef-896e-4019-f501-03f85af1ddaf"
      },
      "source": [
        "w = np.array([[0.1124579],[0.23106775]])\r\n",
        "b = -0.3\r\n",
        "X = np.array([[1.,-1.1,-3.2],[1.2,2.,0.1]])\r\n",
        "print (\"predictions = \" + str(predict(w, b, X)))"
      ],
      "execution_count": 16,
      "outputs": [
        {
          "output_type": "stream",
          "text": [
            "predictions = [[1. 1. 0.]]\n"
          ],
          "name": "stdout"
        }
      ]
    },
    {
      "cell_type": "markdown",
      "metadata": {
        "id": "jqXiBp1NpqmM"
      },
      "source": [
        "<font color='blue'>\r\n",
        "**What to remember:**\r\n",
        "You've implemented several functions that:  \r\n",
        "- Initialize (w,b)\r\n",
        "- Optimize the loss iteratively to learn parameters (w,b):\r\n",
        "    - computing the cost and its gradient \r\n",
        "    - updating the parameters using gradient descent\r\n",
        "- Use the learned (w,b) to predict the labels for a given set of examples"
      ]
    },
    {
      "cell_type": "markdown",
      "metadata": {
        "id": "VtMuHEMPp3Lq"
      },
      "source": [
        "## 5 - Merge all functions into a model ##\r\n",
        "\r\n",
        "You will now see how the overall model is structured by putting together all the building blocks (functions implemented in the previous parts) together, in the right order.\r\n",
        "\r\n",
        "**Exercise:** Implement the model function. Use the following notation:\r\n",
        "    - Y_prediction_test for your predictions on the test set\r\n",
        "    - Y_prediction_train for your predictions on the train set\r\n",
        "    - w, costs, grads for the outputs of optimize()"
      ]
    },
    {
      "cell_type": "code",
      "metadata": {
        "id": "PpCHd56epmHe"
      },
      "source": [
        "# GRADED FUNCTION: model\r\n",
        "\r\n",
        "def model(X_train, Y_train, X_test, Y_test, num_iterations = 2000, learning_rate = 0.5, print_cost = False):\r\n",
        "    \"\"\"\r\n",
        "    Builds the logistic regression model by calling the function you've implemented previously\r\n",
        "    \r\n",
        "    Arguments:\r\n",
        "    X_train -- training set represented by a numpy array of shape (num_px * num_px * 3, m_train)\r\n",
        "    Y_train -- training labels represented by a numpy array (vector) of shape (1, m_train)\r\n",
        "    X_test -- test set represented by a numpy array of shape (num_px * num_px * 3, m_test)\r\n",
        "    Y_test -- test labels represented by a numpy array (vector) of shape (1, m_test)\r\n",
        "    num_iterations -- hyperparameter representing the number of iterations to optimize the parameters\r\n",
        "    learning_rate -- hyperparameter representing the learning rate used in the update rule of optimize()\r\n",
        "    print_cost -- Set to true to print the cost every 100 iterations\r\n",
        "    \r\n",
        "    Returns:\r\n",
        "    d -- dictionary containing information about the model.\r\n",
        "    \"\"\"\r\n",
        "    \r\n",
        "    ### START CODE HERE ###\r\n",
        "    \r\n",
        "    # initialize parameters with zeros (≈ 1 line of code)\r\n",
        "    w, b = initialize_with_zeros(X_train.shape[0])\r\n",
        "\r\n",
        "    # Gradient descent (≈ 1 line of code)\r\n",
        "    parameters, grads, costs = optimize(w, b, X_train, Y_train, num_iterations, learning_rate, print_cost)\r\n",
        "    \r\n",
        "    # Retrieve parameters w and b from dictionary \"parameters\"\r\n",
        "    w = parameters[\"w\"]\r\n",
        "    b = parameters[\"b\"]\r\n",
        "    \r\n",
        "    # Predict test/train set examples (≈ 2 lines of code)\r\n",
        "    Y_prediction_test = predict(w, b, X_test)\r\n",
        "    Y_prediction_train = predict(w, b, X_train)\r\n",
        "\r\n",
        "    ### END CODE HERE ###\r\n",
        "\r\n",
        "    # Print train/test Errors\r\n",
        "    print(\"train accuracy: {} %\".format(100 - np.mean(np.abs(Y_prediction_train - Y_train)) * 100))\r\n",
        "    print(\"test accuracy: {} %\".format(100 - np.mean(np.abs(Y_prediction_test - Y_test)) * 100))\r\n",
        "\r\n",
        "    \r\n",
        "    d = {\"costs\": costs,\r\n",
        "         \"Y_prediction_test\": Y_prediction_test, \r\n",
        "         \"Y_prediction_train\" : Y_prediction_train, \r\n",
        "         \"w\" : w, \r\n",
        "         \"b\" : b,\r\n",
        "         \"learning_rate\" : learning_rate,\r\n",
        "         \"num_iterations\": num_iterations}\r\n",
        "    \r\n",
        "    return d"
      ],
      "execution_count": 17,
      "outputs": []
    },
    {
      "cell_type": "code",
      "metadata": {
        "colab": {
          "base_uri": "https://localhost:8080/"
        },
        "id": "n5WGsOsdp9hv",
        "outputId": "9da49a6e-547e-4125-d6e1-e2cce095281b"
      },
      "source": [
        "d = model(train_set_x, train_set_y, test_set_x, test_set_y, num_iterations = 2000, learning_rate = 0.005, print_cost = True)"
      ],
      "execution_count": 18,
      "outputs": [
        {
          "output_type": "stream",
          "text": [
            "Cost after iteration 0: 0.693147\n",
            "Cost after iteration 100: 0.584508\n",
            "Cost after iteration 200: 0.466949\n",
            "Cost after iteration 300: 0.376007\n",
            "Cost after iteration 400: 0.331463\n",
            "Cost after iteration 500: 0.303273\n",
            "Cost after iteration 600: 0.279880\n",
            "Cost after iteration 700: 0.260042\n",
            "Cost after iteration 800: 0.242941\n",
            "Cost after iteration 900: 0.228004\n",
            "Cost after iteration 1000: 0.214820\n",
            "Cost after iteration 1100: 0.203078\n",
            "Cost after iteration 1200: 0.192544\n",
            "Cost after iteration 1300: 0.183033\n",
            "Cost after iteration 1400: 0.174399\n",
            "Cost after iteration 1500: 0.166521\n",
            "Cost after iteration 1600: 0.159305\n",
            "Cost after iteration 1700: 0.152667\n",
            "Cost after iteration 1800: 0.146542\n",
            "Cost after iteration 1900: 0.140872\n",
            "train accuracy: 99.04306220095694 %\n",
            "test accuracy: 70.0 %\n"
          ],
          "name": "stdout"
        }
      ]
    },
    {
      "cell_type": "markdown",
      "metadata": {
        "id": "XFCpLn2GqP3C"
      },
      "source": [
        "**Comment**: Training accuracy is close to 100%. This is a good sanity check: your model is working and has high enough capacity to fit the training data. Test accuracy is 68%. It is actually not bad for this simple model, given the small dataset we used and that logistic regression is a linear classifier. But no worries, you'll build an even better classifier next week!\r\n",
        "\r\n",
        "Also, you see that the model is clearly overfitting the training data. Later in this specialization you will learn how to reduce overfitting, for example by using regularization. Using the code below (and changing the `index` variable) you can look at predictions on pictures of the test set."
      ]
    },
    {
      "cell_type": "code",
      "metadata": {
        "id": "beaIiWv4qGll"
      },
      "source": [
        "# Example of a picture that was wrongly classified.\r\n",
        "index = 1\r\n",
        "plt.imshow(test_set_x[:,index].reshape((num_px, num_px, 3)))\r\n",
        "print (\"y = \" + str(test_set_y[0,index]) + \", you predicted that it is a \\\"\" + classes[d[\"Y_prediction_test\"][0,index]].decode(\"utf-8\") +  \"\\\" picture.\")"
      ],
      "execution_count": null,
      "outputs": []
    },
    {
      "cell_type": "code",
      "metadata": {
        "colab": {
          "base_uri": "https://localhost:8080/",
          "height": 295
        },
        "id": "eelQGgepqgRX",
        "outputId": "18fa5c86-e09a-4ec8-b2a3-33f446c5b75f"
      },
      "source": [
        "# Plot learning curve (with costs)\r\n",
        "costs = np.squeeze(d['costs'])\r\n",
        "plt.plot(costs)\r\n",
        "plt.ylabel('cost')\r\n",
        "plt.xlabel('iterations (per hundreds)')\r\n",
        "plt.title(\"Learning rate =\" + str(d[\"learning_rate\"]))\r\n",
        "plt.show()"
      ],
      "execution_count": 20,
      "outputs": [
        {
          "output_type": "display_data",
          "data": {
            "image/png": "[encoded data removed]",
            "text/plain": [
              "<Figure size 432x288 with 1 Axes>"
            ]
          },
          "metadata": {
            "tags": [],
            "needs_background": "light"
          }
        }
      ]
    },
    {
      "cell_type": "markdown",
      "metadata": {
        "id": "F_KdimnirVgJ"
      },
      "source": [
        "**Interpretation**:\r\n",
        "You can see the cost decreasing. It shows that the parameters are being learned. However, you see that you could train the model even more on the training set. Try to increase the number of iterations in the cell above and rerun the cells. You might see that the training set accuracy goes up, but the test set accuracy goes down. This is called overfitting. "
      ]
    },
    {
      "cell_type": "markdown",
      "metadata": {
        "id": "IG5aeoWordU9"
      },
      "source": [
        "## 6 - Further analysis (optional/ungraded exercise) ##\r\n",
        "\r\n",
        "Congratulations on building your first image classification model. Let's analyze it further, and examine possible choices for the learning rate $\\alpha$. "
      ]
    },
    {
      "cell_type": "markdown",
      "metadata": {
        "id": "5Rt05uIvrj0s"
      },
      "source": [
        "#### Choice of learning rate ####\r\n",
        "\r\n",
        "**Reminder**:\r\n",
        "In order for Gradient Descent to work you must choose the learning rate wisely. The learning rate $\\alpha$  determines how rapidly we update the parameters. If the learning rate is too large we may \"overshoot\" the optimal value. Similarly, if it is too small we will need too many iterations to converge to the best values. That's why it is crucial to use a well-tuned learning rate.\r\n",
        "\r\n",
        "Let's compare the learning curve of our model with several choices of learning rates. Run the cell below. This should take about 1 minute. Feel free also to try different values than the three we have initialized the `learning_rates` variable to contain, and see what happens. "
      ]
    },
    {
      "cell_type": "code",
      "metadata": {
        "colab": {
          "base_uri": "https://localhost:8080/",
          "height": 585
        },
        "id": "hQkeWWtQrOB5",
        "outputId": "773972fc-e7bd-4fb2-8bdf-7d374428db9a"
      },
      "source": [
        "learning_rates = [0.01, 0.001, 0.0001]\r\n",
        "models = {}\r\n",
        "for i in learning_rates:\r\n",
        "    print (\"learning rate is: \" + str(i))\r\n",
        "    models[str(i)] = model(train_set_x, train_set_y, test_set_x, test_set_y, num_iterations = 1500, learning_rate = i, print_cost = False)\r\n",
        "    print ('\\n' + \"-------------------------------------------------------\" + '\\n')\r\n",
        "\r\n",
        "for i in learning_rates:\r\n",
        "    plt.plot(np.squeeze(models[str(i)][\"costs\"]), label= str(models[str(i)][\"learning_rate\"]))\r\n",
        "\r\n",
        "plt.ylabel('cost')\r\n",
        "plt.xlabel('iterations (hundreds)')\r\n",
        "\r\n",
        "legend = plt.legend(loc='upper center', shadow=True)\r\n",
        "frame = legend.get_frame()\r\n",
        "frame.set_facecolor('0.90')\r\n",
        "plt.show()"
      ],
      "execution_count": 21,
      "outputs": [
        {
          "output_type": "stream",
          "text": [
            "learning rate is: 0.01\n",
            "train accuracy: 99.52153110047847 %\n",
            "test accuracy: 68.0 %\n",
            "\n",
            "-------------------------------------------------------\n",
            "\n",
            "learning rate is: 0.001\n",
            "train accuracy: 88.99521531100478 %\n",
            "test accuracy: 64.0 %\n",
            "\n",
            "-------------------------------------------------------\n",
            "\n",
            "learning rate is: 0.0001\n",
            "train accuracy: 68.42105263157895 %\n",
            "test accuracy: 36.0 %\n",
            "\n",
            "-------------------------------------------------------\n",
            "\n"
          ],
          "name": "stdout"
        },
        {
          "output_type": "display_data",
          "data": {
            "image/png": "[encoded data removed]",
            "text/plain": [
              "<Figure size 432x288 with 1 Axes>"
            ]
          },
          "metadata": {
            "tags": [],
            "needs_background": "light"
          }
        }
      ]
    },
    {
      "cell_type": "markdown",
      "metadata": {
        "id": "_0ZRzg-dry6E"
      },
      "source": [
        "**Interpretation**: \r\n",
        "- Different learning rates give different costs and thus different predictions results.\r\n",
        "- If the learning rate is too large (0.01), the cost may oscillate up and down. It may even diverge (though in this example, using 0.01 still eventually ends up at a good value for the cost). \r\n",
        "- A lower cost doesn't mean a better model. You have to check if there is possibly overfitting. It happens when the training accuracy is a lot higher than the test accuracy.\r\n",
        "- In deep learning, we usually recommend that you: \r\n",
        "    - Choose the learning rate that better minimizes the cost function.\r\n",
        "    - If your model overfits, use other techniques to reduce overfitting. (We'll talk about this in later videos.) \r\n"
      ]
    },
    {
      "cell_type": "code",
      "metadata": {
        "id": "XRYJRuqYsFxG"
      },
      "source": [
        "## START CODE HERE ## (PUT YOUR IMAGE NAME) \r\n",
        "my_image = \"my_image.jpg\"   # change this to the name of your image file \r\n",
        "## END CODE HERE ##\r\n",
        "\r\n",
        "# We preprocess the image to fit your algorithm.\r\n",
        "fname = \"images/\" + my_image\r\n",
        "image = np.array(ndimage.imread(fname, flatten=False))\r\n",
        "image = image/255.\r\n",
        "my_image = scipy.misc.imresize(image, size=(num_px,num_px)).reshape((1, num_px*num_px*3)).T\r\n",
        "my_predicted_image = predict(d[\"w\"], d[\"b\"], my_image)\r\n",
        "\r\n",
        "plt.imshow(image)\r\n",
        "print(\"y = \" + str(np.squeeze(my_predicted_image)) + \", your algorithm predicts a \\\"\" + classes[int(np.squeeze(my_predicted_image)),].decode(\"utf-8\") +  \"\\\" picture.\")"
      ],
      "execution_count": null,
      "outputs": []
    },
    {
      "cell_type": "markdown",
      "metadata": {
        "id": "1lir0tkssRql"
      },
      "source": [
        "<font color='blue'>\r\n",
        "**What to remember from this assignment:**\r\n",
        "1. Preprocessing the dataset is important.\r\n",
        "2. You implemented each function separately: initialize(), propagate(), optimize(). Then you built a model().\r\n",
        "3. Tuning the learning rate (which is an example of a \"hyperparameter\") can make a big difference to the algorithm. You will see more examples of this later in this course!"
      ]
    },
    {
      "cell_type": "code",
      "metadata": {
        "id": "YItnwE_hsRHn"
      },
      "source": [
        ""
      ],
      "execution_count": null,
      "outputs": []
    }
  ]
}